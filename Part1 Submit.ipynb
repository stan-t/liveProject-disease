{
 "cells": [
  {
   "cell_type": "code",
   "execution_count": 2,
   "metadata": {},
   "outputs": [],
   "source": [
    "#Read in headlines text file as list\n",
    "with open(\"data/headlines.txt\") as f:\n",
    "    headlines = [line.rstrip('\\n') for line in f.readlines()]"
   ]
  },
  {
   "cell_type": "code",
   "execution_count": 3,
   "metadata": {},
   "outputs": [],
   "source": [
    "import geonamescache\n",
    "from unidecode import unidecode\n",
    "import pandas as pd\n",
    "import re\n",
    "from collections import defaultdict"
   ]
  },
  {
   "cell_type": "markdown",
   "metadata": {},
   "source": [
    "Output: Headline, City, Country as pandas data frame"
   ]
  },
  {
   "cell_type": "code",
   "execution_count": 4,
   "metadata": {},
   "outputs": [],
   "source": [
    "#Country and city list from geonamescache\n",
    "gc = geonamescache.GeonamesCache()\n",
    "countries = gc.get_countries()\n",
    "cities = gc.get_cities()"
   ]
  },
  {
   "cell_type": "code",
   "execution_count": 5,
   "metadata": {},
   "outputs": [],
   "source": [
    "#Create modified versions of city and country lists for use in headline matching \n",
    "country_list = [unidecode(x['name']) for x in countries.values()]\n",
    "city_list = [unidecode(x['name']) for x in cities.values()]"
   ]
  },
  {
   "cell_type": "code",
   "execution_count": 6,
   "metadata": {},
   "outputs": [],
   "source": [
    "def build_word_dict(source_list):\n",
    "    '''Return a dictionary built from the source_list. \n",
    "    The keys in the output are the unique first words of the items in the source_list\n",
    "    The corresponding values are a list of the items that have the key as the first word.\n",
    "    '''\n",
    "    output = defaultdict(list)\n",
    "    \n",
    "    for item in source_list:\n",
    "        output[item.split(' ')[0]].append(item)\n",
    "\n",
    "    return(output)"
   ]
  },
  {
   "cell_type": "code",
   "execution_count": 7,
   "metadata": {},
   "outputs": [],
   "source": [
    "#Create a dict\n",
    "country_dict = build_word_dict(country_list)\n",
    "city_dict = build_word_dict(city_list)"
   ]
  },
  {
   "cell_type": "code",
   "execution_count": 8,
   "metadata": {},
   "outputs": [],
   "source": [
    "def match_item(headline, item_dict):\n",
    "    '''Searches in the headline for occurences of items in item_list. \n",
    "    Returns the longest match based on number of matching words.\n",
    "    If there is a tie in length, returns only the first match.\n",
    "    '''\n",
    "    \n",
    "    #Create empty result list\n",
    "    match_list = []\n",
    "    \n",
    "    #Split the headlines into words so we can process word by word, which limits the search space\n",
    "    words = headline.split(\" \")\n",
    "    \n",
    "    #Do some cleanup of the words\n",
    "    #Cleaning up 's does impact a few city names\n",
    "    words = [word.replace(\"'s\",\"\") if word[-2:] == \"'s\" else word for word in words]\n",
    "    #Clean up punctuation\n",
    "    words = [word[0:-1] if word[-1:] in [\",\",\"?\",\"!\"] else word for word in words]\n",
    "    \n",
    "    for word in words:\n",
    "        if item_dict[word]:\n",
    "            for item in item_dict[word]:\n",
    "                regex = r\"\\b(\"+item+r\")\"                    \n",
    "                compiled_re = re.compile(regex, flags=re.IGNORECASE)\n",
    "                result = compiled_re.search(headline)\n",
    "                if result is not None:\n",
    "                    match_list.append(result.group())\n",
    "\n",
    "    if len(match_list) == 0:\n",
    "        return(None, None)\n",
    "    else:\n",
    "        lengths = [len(match) for match in match_list]\n",
    "        return(match_list[lengths.index(max(lengths))], match_list )"
   ]
  },
  {
   "cell_type": "code",
   "execution_count": 9,
   "metadata": {},
   "outputs": [],
   "source": [
    "#Run country and city matches to generate an output dataset\n",
    "data = []\n",
    "for headline in headlines[0:]:\n",
    "    row = {}\n",
    "\n",
    "    city, _ = match_item(headline, city_dict)\n",
    "    country, _ = match_item(headline, country_dict)\n",
    "\n",
    "    \n",
    "    row['Headline'] = headline\n",
    "    row['City'] = city\n",
    "    row['Country'] = country\n",
    "    data.append(row)\n",
    "\n",
    "df = pd.DataFrame(data)"
   ]
  },
  {
   "cell_type": "code",
   "execution_count": 10,
   "metadata": {},
   "outputs": [
    {
     "data": {
      "text/html": [
       "<div>\n",
       "<style scoped>\n",
       "    .dataframe tbody tr th:only-of-type {\n",
       "        vertical-align: middle;\n",
       "    }\n",
       "\n",
       "    .dataframe tbody tr th {\n",
       "        vertical-align: top;\n",
       "    }\n",
       "\n",
       "    .dataframe thead th {\n",
       "        text-align: right;\n",
       "    }\n",
       "</style>\n",
       "<table border=\"1\" class=\"dataframe\">\n",
       "  <thead>\n",
       "    <tr style=\"text-align: right;\">\n",
       "      <th></th>\n",
       "      <th>Headline</th>\n",
       "      <th>City</th>\n",
       "      <th>Country</th>\n",
       "    </tr>\n",
       "  </thead>\n",
       "  <tbody>\n",
       "    <tr>\n",
       "      <th>630</th>\n",
       "      <td>Chikungunya has not Left Pismo Beach</td>\n",
       "      <td>None</td>\n",
       "      <td>None</td>\n",
       "    </tr>\n",
       "    <tr>\n",
       "      <th>637</th>\n",
       "      <td>Dengue Outbreak in Easton</td>\n",
       "      <td>Easton</td>\n",
       "      <td>None</td>\n",
       "    </tr>\n",
       "    <tr>\n",
       "      <th>546</th>\n",
       "      <td>Rumors about Rotavirus Spreading in Joliet have been Refuted</td>\n",
       "      <td>Joliet</td>\n",
       "      <td>None</td>\n",
       "    </tr>\n",
       "    <tr>\n",
       "      <th>144</th>\n",
       "      <td>The Spread of Measles in Spokane has been Confirmed</td>\n",
       "      <td>Spokane</td>\n",
       "      <td>None</td>\n",
       "    </tr>\n",
       "    <tr>\n",
       "      <th>111</th>\n",
       "      <td>Authorities are Worried about the Spread of Influenza in Savannah</td>\n",
       "      <td>Savannah</td>\n",
       "      <td>None</td>\n",
       "    </tr>\n",
       "    <tr>\n",
       "      <th>507</th>\n",
       "      <td>Authorities are Worried about the Spread of Chickenpox in Hemet</td>\n",
       "      <td>Hemet</td>\n",
       "      <td>None</td>\n",
       "    </tr>\n",
       "    <tr>\n",
       "      <th>181</th>\n",
       "      <td>Sick Livestock Leads to Serious Trouble for Belfort</td>\n",
       "      <td>Belfort</td>\n",
       "      <td>None</td>\n",
       "    </tr>\n",
       "    <tr>\n",
       "      <th>178</th>\n",
       "      <td>New medicine wipes out Measles in Fresno</td>\n",
       "      <td>Fresno</td>\n",
       "      <td>None</td>\n",
       "    </tr>\n",
       "    <tr>\n",
       "      <th>405</th>\n",
       "      <td>Iowa City Encounters Severe Symptoms of Rhinovirus</td>\n",
       "      <td>Iowa City</td>\n",
       "      <td>None</td>\n",
       "    </tr>\n",
       "    <tr>\n",
       "      <th>264</th>\n",
       "      <td>Tuberculosis Outbreak in Hartford</td>\n",
       "      <td>Hartford</td>\n",
       "      <td>None</td>\n",
       "    </tr>\n",
       "  </tbody>\n",
       "</table>\n",
       "</div>"
      ],
      "text/plain": [
       "                                                              Headline  \\\n",
       "630  Chikungunya has not Left Pismo Beach                                \n",
       "637  Dengue Outbreak in Easton                                           \n",
       "546  Rumors about Rotavirus Spreading in Joliet have been Refuted        \n",
       "144  The Spread of Measles in Spokane has been Confirmed                 \n",
       "111  Authorities are Worried about the Spread of Influenza in Savannah   \n",
       "507  Authorities are Worried about the Spread of Chickenpox in Hemet     \n",
       "181  Sick Livestock Leads to Serious Trouble for Belfort                 \n",
       "178  New medicine wipes out Measles in Fresno                            \n",
       "405  Iowa City Encounters Severe Symptoms of Rhinovirus                  \n",
       "264  Tuberculosis Outbreak in Hartford                                   \n",
       "\n",
       "          City Country  \n",
       "630  None       None    \n",
       "637  Easton     None    \n",
       "546  Joliet     None    \n",
       "144  Spokane    None    \n",
       "111  Savannah   None    \n",
       "507  Hemet      None    \n",
       "181  Belfort    None    \n",
       "178  Fresno     None    \n",
       "405  Iowa City  None    \n",
       "264  Hartford   None    "
      ]
     },
     "execution_count": 10,
     "metadata": {},
     "output_type": "execute_result"
    }
   ],
   "source": [
    "pd.set_option('display.max_colwidth', -1)\n",
    "df.sample(10)"
   ]
  }
 ],
 "metadata": {
  "kernelspec": {
   "display_name": "Python 3",
   "language": "python",
   "name": "python3"
  },
  "language_info": {
   "codemirror_mode": {
    "name": "ipython",
    "version": 3
   },
   "file_extension": ".py",
   "mimetype": "text/x-python",
   "name": "python",
   "nbconvert_exporter": "python",
   "pygments_lexer": "ipython3",
   "version": "3.7.6"
  }
 },
 "nbformat": 4,
 "nbformat_minor": 4
}

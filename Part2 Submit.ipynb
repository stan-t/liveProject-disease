{
 "cells": [
  {
   "cell_type": "markdown",
   "metadata": {},
   "source": [
    "# Adding lat, long, and country code using geonamescache"
   ]
  },
  {
   "cell_type": "markdown",
   "metadata": {},
   "source": [
    "**Objective**\n",
    "Add latitude, longitude, and countrycode to the DataFrame from Part 1\n",
    "\n",
    "**Approach**\n",
    "asdsaf"
   ]
  },
  {
   "cell_type": "markdown",
   "metadata": {},
   "source": [
    "### Imports"
   ]
  },
  {
   "cell_type": "code",
   "execution_count": 162,
   "metadata": {},
   "outputs": [],
   "source": [
    "import matplotlib.pyplot as plt \n",
    "%matplotlib inline\n",
    "import pandas as pd\n",
    "import numpy as py\n",
    "import geonamescache\n",
    "gc = geonamescache.GeonamesCache()\n",
    "from unidecode import unidecode"
   ]
  },
  {
   "cell_type": "markdown",
   "metadata": {},
   "source": [
    "### Read in DataFrame from Part 1"
   ]
  },
  {
   "cell_type": "code",
   "execution_count": 189,
   "metadata": {},
   "outputs": [],
   "source": [
    "df = pd.read_pickle(\"./data/headline_city_country.pkl\")"
   ]
  },
  {
   "cell_type": "markdown",
   "metadata": {},
   "source": [
    "## Cities that return multiple search results from geocachenames"
   ]
  },
  {
   "cell_type": "markdown",
   "metadata": {},
   "source": [
    "Dallas is an example of a city that returns multiple search results"
   ]
  },
  {
   "cell_type": "code",
   "execution_count": 212,
   "metadata": {},
   "outputs": [
    {
     "data": {
      "text/plain": [
       "[{'4684888': {'geonameid': 4684888,\n",
       "   'name': 'Dallas',\n",
       "   'latitude': 32.78306,\n",
       "   'longitude': -96.80667,\n",
       "   'countrycode': 'US',\n",
       "   'population': 1300092,\n",
       "   'timezone': 'America/Chicago',\n",
       "   'admin1code': 'TX'}},\n",
       " {'5722064': {'geonameid': 5722064,\n",
       "   'name': 'Dallas',\n",
       "   'latitude': 44.91928,\n",
       "   'longitude': -123.31705,\n",
       "   'countrycode': 'US',\n",
       "   'population': 15277,\n",
       "   'timezone': 'America/Los_Angeles',\n",
       "   'admin1code': 'OR'}}]"
      ]
     },
     "execution_count": 212,
     "metadata": {},
     "output_type": "execute_result"
    }
   ],
   "source": [
    "gc.get_cities_by_name('Dallas')"
   ]
  },
  {
   "cell_type": "markdown",
   "metadata": {},
   "source": [
    "From the chart below we can see there's a non-trivial amount of cities that return more than 1 search result."
   ]
  },
  {
   "cell_type": "code",
   "execution_count": 216,
   "metadata": {},
   "outputs": [
    {
     "data": {
      "image/png": "[encoded data removed]",
      "text/plain": [
       "<Figure size 432x288 with 1 Axes>"
      ]
     },
     "metadata": {
      "needs_background": "light"
     },
     "output_type": "display_data"
    }
   ],
   "source": [
    "test = [x for x in df['City'] if len(gc.get_cities_by_name(x)) != 1 ]\n",
    "num_results = [len(gc.get_cities_by_name(x)) for x in df['City']]\n",
    "plt.hist(num_results, bins='auto', edgecolor='k')\n",
    "plt.xlabel(\"Number of cities returned\")\n",
    "plt.ylabel(\"Occurences\")\n",
    "plt.show()"
   ]
  },
  {
   "cell_type": "markdown",
   "metadata": {},
   "source": [
    "We will address this problem by defaulting to the city in the search result that has the highest population. This is a simplistic rule but probably works since the chances are higher than an event would be related to a large city and we don't really have much other information to go off of. "
   ]
  },
  {
   "cell_type": "markdown",
   "metadata": {},
   "source": [
    "## Cities with accents in the name"
   ]
  },
  {
   "cell_type": "markdown",
   "metadata": {},
   "source": [
    "Our headlines don't have accents so we can't properly look up those names in geocachenames. To address this issue, we create a dictionary that maps unaccented names to the accented ones. Then we can look up the accented names to pass to the geocachename functions."
   ]
  },
  {
   "cell_type": "code",
   "execution_count": 218,
   "metadata": {},
   "outputs": [
    {
     "name": "stdout",
     "output_type": "stream",
     "text": [
      "Cordoba should be accented as Córdoba\n"
     ]
    }
   ],
   "source": [
    "accented_cities = [ city['name'] for city in gc.get_cities().values() if unidecode(city['name']) != city['name']]\n",
    "alternate_cityname = {unidecode(name): name for name in accented_cities}\n",
    "\n",
    "#Test an example city known to have accents\n",
    "print(f\"Cordoba should be accented as {alternate_cityname['Cordoba']}\")"
   ]
  },
  {
   "cell_type": "markdown",
   "metadata": {},
   "source": [
    "### Create function to retrieve city info from geocachenames"
   ]
  },
  {
   "cell_type": "code",
   "execution_count": 219,
   "metadata": {},
   "outputs": [],
   "source": [
    "def get_city_info(city):\n",
    "    \n",
    "    #Check and retrieve accented version of a city name if it has an accented version\n",
    "    if city in alternate_cityname.keys():\n",
    "        city = alternate_cityname[city]\n",
    "    \n",
    "    #Lookup city in geocachenames\n",
    "    result = gc.get_cities_by_name(city)\n",
    "    \n",
    "    #Handle lookup results\n",
    "    \n",
    "    #If only 1 result returned\n",
    "    if len(result) == 1:\n",
    "        #Return that 1 result\n",
    "        best_match = list(result[0].values())[0]\n",
    "    \n",
    "    #Else if more than 1 result returned\n",
    "    elif len(result) > 1:\n",
    "        #Return the best match by choosing the one with the biggest population\n",
    "        best_match = list(max(result, key = lambda x: list(x.values())[0]['population'] ).values())[0]\n",
    "    \n",
    "    #Else no results were returned\n",
    "    else:\n",
    "        best_match = None\n",
    "\n",
    "    #Process the result into a dictionary for output\n",
    "    if best_match is not None:\n",
    "        lat = best_match['latitude']\n",
    "        long = best_match['longitude']\n",
    "        countrycode = best_match['countrycode']\n",
    "        city_info = {'Latitude':lat, \"Longitude\":long, \"Country Code\" : countrycode}\n",
    "    else:\n",
    "        city_info = None\n",
    "    \n",
    "    return(city_info)\n",
    "    "
   ]
  },
  {
   "cell_type": "code",
   "execution_count": 220,
   "metadata": {},
   "outputs": [
    {
     "data": {
      "text/plain": [
       "{'Latitude': -22.90642, 'Longitude': -43.18223, 'Country Code': 'BR'}"
      ]
     },
     "execution_count": 220,
     "metadata": {},
     "output_type": "execute_result"
    }
   ],
   "source": [
    "#Test the function\n",
    "get_city_info('Rio de Janeiro')"
   ]
  },
  {
   "cell_type": "markdown",
   "metadata": {},
   "source": [
    "Create new the columns for latitude, longitude, and country code "
   ]
  },
  {
   "cell_type": "code",
   "execution_count": 205,
   "metadata": {},
   "outputs": [],
   "source": [
    "df['Latitude'] = df['City'].map(lambda x: get_city_info(x)['Latitude'] if get_city_info(x) else None)\n",
    "df['Longitude'] = df['City'].map(lambda x: get_city_info(x)['Longitude'] if get_city_info(x) else None)\n",
    "df['Country Code'] = df['City'].map(lambda x: get_city_info(x)['Country Code'] if get_city_info(x) else None)"
   ]
  },
  {
   "cell_type": "markdown",
   "metadata": {},
   "source": [
    "See how many rows have no data for these new colums"
   ]
  },
  {
   "cell_type": "code",
   "execution_count": 224,
   "metadata": {},
   "outputs": [
    {
     "name": "stdout",
     "output_type": "stream",
     "text": [
      "40 rows out of 650 rows have no data for the new columns\n"
     ]
    }
   ],
   "source": [
    "print(f\"{len(df[df['Latitude'].isnull() | df['Longitude'].isnull() | df['Country Code'].isnull()])} rows out of {len(df)} rows have no data for the new columns\")"
   ]
  },
  {
   "cell_type": "markdown",
   "metadata": {},
   "source": [
    "We still have over 600 rows with full location data which is sufficient per the problem description"
   ]
  },
  {
   "cell_type": "code",
   "execution_count": 226,
   "metadata": {},
   "outputs": [
    {
     "data": {
      "text/html": [
       "<div>\n",
       "<style scoped>\n",
       "    .dataframe tbody tr th:only-of-type {\n",
       "        vertical-align: middle;\n",
       "    }\n",
       "\n",
       "    .dataframe tbody tr th {\n",
       "        vertical-align: top;\n",
       "    }\n",
       "\n",
       "    .dataframe thead th {\n",
       "        text-align: right;\n",
       "    }\n",
       "</style>\n",
       "<table border=\"1\" class=\"dataframe\">\n",
       "  <thead>\n",
       "    <tr style=\"text-align: right;\">\n",
       "      <th></th>\n",
       "      <th>Headline</th>\n",
       "      <th>City</th>\n",
       "      <th>Country</th>\n",
       "      <th>Latitude</th>\n",
       "      <th>Longitude</th>\n",
       "      <th>Country Code</th>\n",
       "    </tr>\n",
       "  </thead>\n",
       "  <tbody>\n",
       "    <tr>\n",
       "      <th>0</th>\n",
       "      <td>Zika Outbreak Hits Miami</td>\n",
       "      <td>Miami</td>\n",
       "      <td>None</td>\n",
       "      <td>25.77427</td>\n",
       "      <td>-80.19366</td>\n",
       "      <td>US</td>\n",
       "    </tr>\n",
       "    <tr>\n",
       "      <th>1</th>\n",
       "      <td>Could Zika Reach New York City?</td>\n",
       "      <td>New York City</td>\n",
       "      <td>None</td>\n",
       "      <td>40.71427</td>\n",
       "      <td>-74.00597</td>\n",
       "      <td>US</td>\n",
       "    </tr>\n",
       "    <tr>\n",
       "      <th>2</th>\n",
       "      <td>First Case of Zika in Miami Beach</td>\n",
       "      <td>Miami Beach</td>\n",
       "      <td>None</td>\n",
       "      <td>25.79065</td>\n",
       "      <td>-80.13005</td>\n",
       "      <td>US</td>\n",
       "    </tr>\n",
       "    <tr>\n",
       "      <th>3</th>\n",
       "      <td>Mystery Virus Spreads in Recife, Brazil</td>\n",
       "      <td>Recife</td>\n",
       "      <td>Brazil</td>\n",
       "      <td>-8.05389</td>\n",
       "      <td>-34.88111</td>\n",
       "      <td>BR</td>\n",
       "    </tr>\n",
       "    <tr>\n",
       "      <th>4</th>\n",
       "      <td>Dallas man comes down with case of Zika</td>\n",
       "      <td>Dallas</td>\n",
       "      <td>None</td>\n",
       "      <td>32.78306</td>\n",
       "      <td>-96.80667</td>\n",
       "      <td>US</td>\n",
       "    </tr>\n",
       "    <tr>\n",
       "      <th>5</th>\n",
       "      <td>Trinidad confirms first Zika case</td>\n",
       "      <td>Trinidad</td>\n",
       "      <td>None</td>\n",
       "      <td>-14.83333</td>\n",
       "      <td>-64.90000</td>\n",
       "      <td>BO</td>\n",
       "    </tr>\n",
       "    <tr>\n",
       "      <th>6</th>\n",
       "      <td>Zika Concerns are Spreading in Houston</td>\n",
       "      <td>Houston</td>\n",
       "      <td>None</td>\n",
       "      <td>29.76328</td>\n",
       "      <td>-95.36327</td>\n",
       "      <td>US</td>\n",
       "    </tr>\n",
       "    <tr>\n",
       "      <th>7</th>\n",
       "      <td>Geneve Scientists Battle to Find Cure</td>\n",
       "      <td>Geneve</td>\n",
       "      <td>None</td>\n",
       "      <td>46.20222</td>\n",
       "      <td>6.14569</td>\n",
       "      <td>CH</td>\n",
       "    </tr>\n",
       "    <tr>\n",
       "      <th>8</th>\n",
       "      <td>The CDC in Atlanta is Growing Worried</td>\n",
       "      <td>Atlanta</td>\n",
       "      <td>None</td>\n",
       "      <td>33.74900</td>\n",
       "      <td>-84.38798</td>\n",
       "      <td>US</td>\n",
       "    </tr>\n",
       "    <tr>\n",
       "      <th>9</th>\n",
       "      <td>Zika Infested Monkeys in Sao Paulo</td>\n",
       "      <td>Sao Paulo</td>\n",
       "      <td>None</td>\n",
       "      <td>-23.54750</td>\n",
       "      <td>-46.63611</td>\n",
       "      <td>BR</td>\n",
       "    </tr>\n",
       "    <tr>\n",
       "      <th>10</th>\n",
       "      <td>Brownsville teen contracts Zika virus</td>\n",
       "      <td>Brownsville</td>\n",
       "      <td>None</td>\n",
       "      <td>25.90175</td>\n",
       "      <td>-97.49748</td>\n",
       "      <td>US</td>\n",
       "    </tr>\n",
       "    <tr>\n",
       "      <th>11</th>\n",
       "      <td>Mosquito control efforts in St. Louis take new...</td>\n",
       "      <td>St. Louis</td>\n",
       "      <td>None</td>\n",
       "      <td>38.62727</td>\n",
       "      <td>-90.19789</td>\n",
       "      <td>US</td>\n",
       "    </tr>\n",
       "    <tr>\n",
       "      <th>12</th>\n",
       "      <td>San Juan reports 1st U.S. Zika-related death a...</td>\n",
       "      <td>San Juan</td>\n",
       "      <td>None</td>\n",
       "      <td>-31.53750</td>\n",
       "      <td>-68.53639</td>\n",
       "      <td>AR</td>\n",
       "    </tr>\n",
       "    <tr>\n",
       "      <th>13</th>\n",
       "      <td>Flu outbreak in Galveston, Texas</td>\n",
       "      <td>Galveston</td>\n",
       "      <td>None</td>\n",
       "      <td>29.30135</td>\n",
       "      <td>-94.79770</td>\n",
       "      <td>US</td>\n",
       "    </tr>\n",
       "    <tr>\n",
       "      <th>14</th>\n",
       "      <td>Zika alert – Manila now threatened</td>\n",
       "      <td>Manila</td>\n",
       "      <td>None</td>\n",
       "      <td>14.60420</td>\n",
       "      <td>120.98220</td>\n",
       "      <td>PH</td>\n",
       "    </tr>\n",
       "    <tr>\n",
       "      <th>15</th>\n",
       "      <td>Zika afflicts 7 in Iloilo City</td>\n",
       "      <td>Iloilo</td>\n",
       "      <td>None</td>\n",
       "      <td>10.69694</td>\n",
       "      <td>122.56444</td>\n",
       "      <td>PH</td>\n",
       "    </tr>\n",
       "    <tr>\n",
       "      <th>16</th>\n",
       "      <td>New Los Angeles Hairstyle goes Viral</td>\n",
       "      <td>Los Angeles</td>\n",
       "      <td>None</td>\n",
       "      <td>-37.46973</td>\n",
       "      <td>-72.35366</td>\n",
       "      <td>CL</td>\n",
       "    </tr>\n",
       "    <tr>\n",
       "      <th>17</th>\n",
       "      <td>Louisiana Zika cases up to 26</td>\n",
       "      <td>None</td>\n",
       "      <td>None</td>\n",
       "      <td>NaN</td>\n",
       "      <td>NaN</td>\n",
       "      <td>None</td>\n",
       "    </tr>\n",
       "    <tr>\n",
       "      <th>18</th>\n",
       "      <td>Orlando volunteers aid Zika research</td>\n",
       "      <td>Orlando</td>\n",
       "      <td>None</td>\n",
       "      <td>28.53834</td>\n",
       "      <td>-81.37924</td>\n",
       "      <td>US</td>\n",
       "    </tr>\n",
       "    <tr>\n",
       "      <th>19</th>\n",
       "      <td>Zika infects pregnant woman in Cebu</td>\n",
       "      <td>None</td>\n",
       "      <td>None</td>\n",
       "      <td>NaN</td>\n",
       "      <td>NaN</td>\n",
       "      <td>None</td>\n",
       "    </tr>\n",
       "  </tbody>\n",
       "</table>\n",
       "</div>"
      ],
      "text/plain": [
       "                                             Headline           City Country  \\\n",
       "0                            Zika Outbreak Hits Miami          Miami    None   \n",
       "1                     Could Zika Reach New York City?  New York City    None   \n",
       "2                   First Case of Zika in Miami Beach    Miami Beach    None   \n",
       "3             Mystery Virus Spreads in Recife, Brazil         Recife  Brazil   \n",
       "4             Dallas man comes down with case of Zika         Dallas    None   \n",
       "5                   Trinidad confirms first Zika case       Trinidad    None   \n",
       "6              Zika Concerns are Spreading in Houston        Houston    None   \n",
       "7               Geneve Scientists Battle to Find Cure         Geneve    None   \n",
       "8               The CDC in Atlanta is Growing Worried        Atlanta    None   \n",
       "9                  Zika Infested Monkeys in Sao Paulo      Sao Paulo    None   \n",
       "10              Brownsville teen contracts Zika virus    Brownsville    None   \n",
       "11  Mosquito control efforts in St. Louis take new...      St. Louis    None   \n",
       "12  San Juan reports 1st U.S. Zika-related death a...       San Juan    None   \n",
       "13                   Flu outbreak in Galveston, Texas      Galveston    None   \n",
       "14                 Zika alert – Manila now threatened         Manila    None   \n",
       "15                     Zika afflicts 7 in Iloilo City         Iloilo    None   \n",
       "16               New Los Angeles Hairstyle goes Viral    Los Angeles    None   \n",
       "17                      Louisiana Zika cases up to 26           None    None   \n",
       "18               Orlando volunteers aid Zika research        Orlando    None   \n",
       "19                Zika infects pregnant woman in Cebu           None    None   \n",
       "\n",
       "    Latitude  Longitude Country Code  \n",
       "0   25.77427  -80.19366           US  \n",
       "1   40.71427  -74.00597           US  \n",
       "2   25.79065  -80.13005           US  \n",
       "3   -8.05389  -34.88111           BR  \n",
       "4   32.78306  -96.80667           US  \n",
       "5  -14.83333  -64.90000           BO  \n",
       "6   29.76328  -95.36327           US  \n",
       "7   46.20222    6.14569           CH  \n",
       "8   33.74900  -84.38798           US  \n",
       "9  -23.54750  -46.63611           BR  \n",
       "10  25.90175  -97.49748           US  \n",
       "11  38.62727  -90.19789           US  \n",
       "12 -31.53750  -68.53639           AR  \n",
       "13  29.30135  -94.79770           US  \n",
       "14  14.60420  120.98220           PH  \n",
       "15  10.69694  122.56444           PH  \n",
       "16 -37.46973  -72.35366           CL  \n",
       "17       NaN        NaN         None  \n",
       "18  28.53834  -81.37924           US  \n",
       "19       NaN        NaN         None  "
      ]
     },
     "execution_count": 226,
     "metadata": {},
     "output_type": "execute_result"
    }
   ],
   "source": [
    "df.head(20)"
   ]
  }
 ],
 "metadata": {
  "kernelspec": {
   "display_name": "Python 3",
   "language": "python",
   "name": "python3"
  },
  "language_info": {
   "codemirror_mode": {
    "name": "ipython",
    "version": 3
   },
   "file_extension": ".py",
   "mimetype": "text/x-python",
   "name": "python",
   "nbconvert_exporter": "python",
   "pygments_lexer": "ipython3",
   "version": "3.7.6"
  }
 },
 "nbformat": 4,
 "nbformat_minor": 4
}
